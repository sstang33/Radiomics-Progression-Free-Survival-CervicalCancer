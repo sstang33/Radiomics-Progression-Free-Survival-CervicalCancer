{
 "cells": [
  {
   "cell_type": "code",
   "execution_count": 1,
   "id": "632db0e3",
   "metadata": {},
   "outputs": [],
   "source": [
    "import pandas as pd\n",
    "import numpy as np\n",
    "import matplotlib.pyplot as plt\n",
    "import matplotlib\n",
    "import seaborn as sns"
   ]
  },
  {
   "cell_type": "code",
   "execution_count": 2,
   "id": "c6aec77e",
   "metadata": {},
   "outputs": [],
   "source": [
    "filename = \"Validation_Prediction_Expectation_OriFeature_HRselFea_OS_UpdateLastFU_NotCpltExc_NeverDisFreeModified_Average.xlsx\"\n",
    "data = pd.read_excel(filename, \"Combine\")\n",
    "# filename = \"CombineMRCli_OS_Death_HRselFea_NotCpltExc_NeverDisFreeModi_PredictionAverage.xlsx\"\n",
    "# data = pd.read_excel(filename, \"Combine_MRCli_Ave\")\n",
    "RFS12 = \"12monRFS\"\n",
    "RFS24 = \"24monRFS\"\n",
    "RFS36 = \"36monRFS\"\n",
    "figuretitle = 'ROC Curves (Combined Model)'"
   ]
  },
  {
   "cell_type": "code",
   "execution_count": 3,
   "id": "20f708c9",
   "metadata": {},
   "outputs": [
    {
     "data": {
      "text/html": [
       "<div>\n",
       "<style scoped>\n",
       "    .dataframe tbody tr th:only-of-type {\n",
       "        vertical-align: middle;\n",
       "    }\n",
       "\n",
       "    .dataframe tbody tr th {\n",
       "        vertical-align: top;\n",
       "    }\n",
       "\n",
       "    .dataframe thead th {\n",
       "        text-align: right;\n",
       "    }\n",
       "</style>\n",
       "<table border=\"1\" class=\"dataframe\">\n",
       "  <thead>\n",
       "    <tr style=\"text-align: right;\">\n",
       "      <th></th>\n",
       "      <th>PatientsID</th>\n",
       "      <th>Prediction</th>\n",
       "      <th>Survival</th>\n",
       "      <th>Event</th>\n",
       "    </tr>\n",
       "  </thead>\n",
       "  <tbody>\n",
       "    <tr>\n",
       "      <th>0</th>\n",
       "      <td>CRV_001</td>\n",
       "      <td>675.570706</td>\n",
       "      <td>1750</td>\n",
       "      <td>0</td>\n",
       "    </tr>\n",
       "    <tr>\n",
       "      <th>1</th>\n",
       "      <td>CRV_002</td>\n",
       "      <td>1408.239702</td>\n",
       "      <td>1473</td>\n",
       "      <td>0</td>\n",
       "    </tr>\n",
       "    <tr>\n",
       "      <th>2</th>\n",
       "      <td>CRV_003</td>\n",
       "      <td>1309.651523</td>\n",
       "      <td>574</td>\n",
       "      <td>0</td>\n",
       "    </tr>\n",
       "    <tr>\n",
       "      <th>3</th>\n",
       "      <td>CRV_004</td>\n",
       "      <td>1322.941857</td>\n",
       "      <td>1447</td>\n",
       "      <td>0</td>\n",
       "    </tr>\n",
       "    <tr>\n",
       "      <th>4</th>\n",
       "      <td>CRV_005</td>\n",
       "      <td>1242.874467</td>\n",
       "      <td>1092</td>\n",
       "      <td>0</td>\n",
       "    </tr>\n",
       "    <tr>\n",
       "      <th>...</th>\n",
       "      <td>...</td>\n",
       "      <td>...</td>\n",
       "      <td>...</td>\n",
       "      <td>...</td>\n",
       "    </tr>\n",
       "    <tr>\n",
       "      <th>100</th>\n",
       "      <td>CRV_104</td>\n",
       "      <td>980.552810</td>\n",
       "      <td>1750</td>\n",
       "      <td>0</td>\n",
       "    </tr>\n",
       "    <tr>\n",
       "      <th>101</th>\n",
       "      <td>CRV_105</td>\n",
       "      <td>1395.252198</td>\n",
       "      <td>929</td>\n",
       "      <td>0</td>\n",
       "    </tr>\n",
       "    <tr>\n",
       "      <th>102</th>\n",
       "      <td>CRV_106</td>\n",
       "      <td>1476.839492</td>\n",
       "      <td>1015</td>\n",
       "      <td>0</td>\n",
       "    </tr>\n",
       "    <tr>\n",
       "      <th>103</th>\n",
       "      <td>CRV_107</td>\n",
       "      <td>1092.629574</td>\n",
       "      <td>150</td>\n",
       "      <td>1</td>\n",
       "    </tr>\n",
       "    <tr>\n",
       "      <th>104</th>\n",
       "      <td>CRV_108</td>\n",
       "      <td>1258.273822</td>\n",
       "      <td>1750</td>\n",
       "      <td>0</td>\n",
       "    </tr>\n",
       "  </tbody>\n",
       "</table>\n",
       "<p>105 rows × 4 columns</p>\n",
       "</div>"
      ],
      "text/plain": [
       "    PatientsID   Prediction  Survival  Event\n",
       "0      CRV_001   675.570706      1750      0\n",
       "1      CRV_002  1408.239702      1473      0\n",
       "2      CRV_003  1309.651523       574      0\n",
       "3      CRV_004  1322.941857      1447      0\n",
       "4      CRV_005  1242.874467      1092      0\n",
       "..         ...          ...       ...    ...\n",
       "100    CRV_104   980.552810      1750      0\n",
       "101    CRV_105  1395.252198       929      0\n",
       "102    CRV_106  1476.839492      1015      0\n",
       "103    CRV_107  1092.629574       150      1\n",
       "104    CRV_108  1258.273822      1750      0\n",
       "\n",
       "[105 rows x 4 columns]"
      ]
     },
     "execution_count": 3,
     "metadata": {},
     "output_type": "execute_result"
    }
   ],
   "source": [
    "data"
   ]
  },
  {
   "cell_type": "code",
   "execution_count": 4,
   "id": "606909fd",
   "metadata": {},
   "outputs": [
    {
     "data": {
      "text/plain": [
       "1225.725720415744"
      ]
     },
     "execution_count": 4,
     "metadata": {},
     "output_type": "execute_result"
    }
   ],
   "source": [
    "from statistics import median\n",
    "predicMed = median(data['Prediction'].values)\n",
    "predicMed"
   ]
  },
  {
   "cell_type": "code",
   "execution_count": 5,
   "id": "2e488705",
   "metadata": {},
   "outputs": [
    {
     "data": {
      "image/png": "[encoded data removed]",
      "text/plain": [
       "<Figure size 576x288 with 1 Axes>"
      ]
     },
     "metadata": {
      "needs_background": "light"
     },
     "output_type": "display_data"
    }
   ],
   "source": [
    "fig = plt.figure(figsize=(8,4))\n",
    "\n",
    "ax = fig.add_subplot(111)\n",
    "ax.set_xlabel(\"Validation cohort\")\n",
    "ax.set_ylabel(\"Predicted survival\")\n",
    "plt.plot(data['Prediction'].values,'o-', label=\"validation survival prediction\")\n",
    "plt.plot(np.ones(len(data['Prediction']))*predicMed, label=\"Median prediction\")\n",
    "plt.legend(bbox_to_anchor=(1.05, 1), loc='upper left', borderaxespad=0.)\n",
    "plt.show()"
   ]
  },
  {
   "cell_type": "code",
   "execution_count": 6,
   "id": "4cacfd41",
   "metadata": {},
   "outputs": [],
   "source": [
    "low_risk_ind = np.argwhere(data['Prediction'].values >= predicMed)\n",
    "high_risk_ind = np.argwhere(data['Prediction'].values < predicMed)"
   ]
  },
  {
   "cell_type": "code",
   "execution_count": 7,
   "id": "7335c8a9",
   "metadata": {
    "scrolled": false
   },
   "outputs": [
    {
     "data": {
      "text/html": [
       "<div>\n",
       "<style scoped>\n",
       "    .dataframe tbody tr th:only-of-type {\n",
       "        vertical-align: middle;\n",
       "    }\n",
       "\n",
       "    .dataframe tbody tr th {\n",
       "        vertical-align: top;\n",
       "    }\n",
       "\n",
       "    .dataframe thead th {\n",
       "        text-align: right;\n",
       "    }\n",
       "</style>\n",
       "<table border=\"1\" class=\"dataframe\">\n",
       "  <tbody>\n",
       "    <tr>\n",
       "      <th>t_0</th>\n",
       "      <td>-1</td>\n",
       "    </tr>\n",
       "    <tr>\n",
       "      <th>null_distribution</th>\n",
       "      <td>chi squared</td>\n",
       "    </tr>\n",
       "    <tr>\n",
       "      <th>degrees_of_freedom</th>\n",
       "      <td>1</td>\n",
       "    </tr>\n",
       "    <tr>\n",
       "      <th>alpha</th>\n",
       "      <td>0.95</td>\n",
       "    </tr>\n",
       "    <tr>\n",
       "      <th>test_name</th>\n",
       "      <td>logrank_test</td>\n",
       "    </tr>\n",
       "  </tbody>\n",
       "</table>\n",
       "</div><table border=\"1\" class=\"dataframe\">\n",
       "  <thead>\n",
       "    <tr style=\"text-align: right;\">\n",
       "      <th></th>\n",
       "      <th>test_statistic</th>\n",
       "      <th>p</th>\n",
       "      <th>-log2(p)</th>\n",
       "    </tr>\n",
       "  </thead>\n",
       "  <tbody>\n",
       "    <tr>\n",
       "      <th>0</th>\n",
       "      <td>14.78</td>\n",
       "      <td>&lt;0.005</td>\n",
       "      <td>13.02</td>\n",
       "    </tr>\n",
       "  </tbody>\n",
       "</table>"
      ],
      "text/latex": [
       "\\begin{tabular}{lrrr}\n",
       "\\toprule\n",
       "{} &  test\\_statistic &         p &   -log2(p) \\\\\n",
       "\\midrule\n",
       "0 &        14.78213 &  0.000121 &  13.016602 \\\\\n",
       "\\bottomrule\n",
       "\\end{tabular}\n"
      ],
      "text/plain": [
       "<lifelines.StatisticalResult: logrank_test>\n",
       "               t_0 = -1\n",
       " null_distribution = chi squared\n",
       "degrees_of_freedom = 1\n",
       "             alpha = 0.95\n",
       "         test_name = logrank_test\n",
       "\n",
       "---\n",
       " test_statistic      p  -log2(p)\n",
       "          14.78 <0.005     13.02"
      ]
     },
     "metadata": {},
     "output_type": "display_data"
    },
    {
     "data": {
      "image/png": "[encoded data removed]",
      "text/plain": [
       "<Figure size 432x288 with 2 Axes>"
      ]
     },
     "metadata": {
      "needs_background": "light"
     },
     "output_type": "display_data"
    }
   ],
   "source": [
    "import lifelines\n",
    "from lifelines.plotting import add_at_risk_counts\n",
    "from lifelines.statistics import logrank_test\n",
    "from lifelines import CoxPHFitter\n",
    "from lifelines.utils import concordance_index\n",
    "\n",
    "duration = data[['Survival']]\n",
    "event = data[['Event']]\n",
    "\n",
    "cum_event = event\n",
    "cum_duration = duration\n",
    "\n",
    "durations = cum_duration.to_numpy()\n",
    "events= cum_event.to_numpy()\n",
    "\n",
    "ax = plt.subplot(111)\n",
    "\n",
    "ax.spines[\"right\"].set_visible(False)\n",
    "ax.spines[\"top\"].set_visible(False)\n",
    "\n",
    "kmf_low = lifelines.KaplanMeierFitter()\n",
    "ax = kmf_low.fit(durations[low_risk_ind], event_observed=events[low_risk_ind], label=\"Low Risk\").plot_survival_function(show_censors=False,ci_show=True, ax=ax,color='m')\n",
    "\n",
    "kmf_high = lifelines.KaplanMeierFitter()\n",
    "ax = kmf_high.fit(durations[high_risk_ind], event_observed=events[high_risk_ind], label=\"High Risk\").plot_survival_function(show_censors=False,ci_show=True, ax=ax,color='k') #, linestyle='dashed'\n",
    "plt.xticks(np.linspace(0,1200,11))\n",
    "plt.xlabel('Days')\n",
    "plt.ylabel('Survival probability')\n",
    "plt.legend(frameon=False)\n",
    "\n",
    "add_at_risk_counts(kmf_low, kmf_high, ax=ax)\n",
    "km = plt.tight_layout()\n",
    "# plt.savefig('DFS_Radiomics_Risk_0_Partition_Italy.png', dpi=300)\n",
    "\n",
    "results = logrank_test(durations[high_risk_ind], durations[low_risk_ind], events[high_risk_ind], events[low_risk_ind], alpha=.95)\n",
    "results.print_summary()"
   ]
  },
  {
   "cell_type": "code",
   "execution_count": 8,
   "id": "7022fa7f",
   "metadata": {},
   "outputs": [
    {
     "data": {
      "text/html": [
       "<div>\n",
       "<style scoped>\n",
       "    .dataframe tbody tr th:only-of-type {\n",
       "        vertical-align: middle;\n",
       "    }\n",
       "\n",
       "    .dataframe tbody tr th {\n",
       "        vertical-align: top;\n",
       "    }\n",
       "\n",
       "    .dataframe thead th {\n",
       "        text-align: right;\n",
       "    }\n",
       "</style>\n",
       "<table border=\"1\" class=\"dataframe\">\n",
       "  <thead>\n",
       "    <tr style=\"text-align: right;\">\n",
       "      <th></th>\n",
       "      <th>test_statistic</th>\n",
       "      <th>p</th>\n",
       "      <th>-log2(p)</th>\n",
       "    </tr>\n",
       "  </thead>\n",
       "  <tbody>\n",
       "    <tr>\n",
       "      <th>0</th>\n",
       "      <td>14.78213</td>\n",
       "      <td>0.000121</td>\n",
       "      <td>13.016602</td>\n",
       "    </tr>\n",
       "  </tbody>\n",
       "</table>\n",
       "</div>"
      ],
      "text/plain": [
       "   test_statistic         p   -log2(p)\n",
       "0        14.78213  0.000121  13.016602"
      ]
     },
     "execution_count": 8,
     "metadata": {},
     "output_type": "execute_result"
    }
   ],
   "source": [
    "results.summary"
   ]
  },
  {
   "cell_type": "code",
   "execution_count": 9,
   "id": "6d2923aa",
   "metadata": {},
   "outputs": [
    {
     "data": {
      "text/plain": [
       "(0.2, 1.05)"
      ]
     },
     "execution_count": 9,
     "metadata": {},
     "output_type": "execute_result"
    },
    {
     "data": {
      "image/png": "[encoded data removed]",
      "text/plain": [
       "<Figure size 864x288 with 1 Axes>"
      ]
     },
     "metadata": {
      "needs_background": "light"
     },
     "output_type": "display_data"
    }
   ],
   "source": [
    "fig = plt.figure(figsize=(12,4))\n",
    "ax = fig.add_subplot(111)\n",
    "\n",
    "ax.spines[\"right\"].set_visible(False)\n",
    "ax.spines[\"top\"].set_visible(False)\n",
    "\n",
    "kmf_low = lifelines.KaplanMeierFitter()\n",
    "ax = kmf_low.fit(durations[low_risk_ind]/30, event_observed=events[low_risk_ind], label=\"Low Risk\").plot_survival_function(show_censors=False,ci_show=True, ax=ax,color='m')\n",
    "kmf_high = lifelines.KaplanMeierFitter()\n",
    "ax = kmf_high.fit(durations[high_risk_ind]/30, event_observed=events[high_risk_ind], label=\"High Risk\").plot_survival_function(show_censors=False,ci_show=True, ax=ax,color='k') #, linestyle='dashed'\n",
    "# ax.legend(['Low Risk','High Risk'])\n",
    "\n",
    "plt.xticks(np.linspace(0,1200/30,11), fontsize = 12)\n",
    "plt.yticks(fontsize = 12)\n",
    "plt.xlabel('Month', fontsize = 14)\n",
    "plt.ylabel('RFS probability', fontsize = 14)\n",
    "plt.legend(bbox_to_anchor=(0.56, 0.025), loc='lower right', fontsize=14, borderaxespad=0.,ncol=2)\n",
    "plt.ylim([0.2, 1.05])\n"
   ]
  },
  {
   "cell_type": "code",
   "execution_count": 10,
   "id": "94fef2f1",
   "metadata": {},
   "outputs": [],
   "source": [
    "fig.savefig('KM survival for swaapm.tif', format='tif', dpi=300)"
   ]
  },
  {
   "cell_type": "code",
   "execution_count": 11,
   "id": "674bb29d",
   "metadata": {},
   "outputs": [],
   "source": [
    "import copy\n",
    "from sklearn.model_selection import KFold\n",
    "from lifelines.utils import concordance_index\n",
    "from sklearn import metrics"
   ]
  },
  {
   "cell_type": "code",
   "execution_count": 12,
   "id": "3a2e1781",
   "metadata": {},
   "outputs": [],
   "source": [
    "data12 = pd.read_excel(filename, RFS12)\n",
    "data24 = pd.read_excel(filename, RFS24)\n",
    "data36 = pd.read_excel(filename, RFS36)"
   ]
  },
  {
   "cell_type": "code",
   "execution_count": 13,
   "id": "9e86082d",
   "metadata": {},
   "outputs": [
    {
     "data": {
      "text/html": [
       "<div>\n",
       "<style scoped>\n",
       "    .dataframe tbody tr th:only-of-type {\n",
       "        vertical-align: middle;\n",
       "    }\n",
       "\n",
       "    .dataframe tbody tr th {\n",
       "        vertical-align: top;\n",
       "    }\n",
       "\n",
       "    .dataframe thead th {\n",
       "        text-align: right;\n",
       "    }\n",
       "</style>\n",
       "<table border=\"1\" class=\"dataframe\">\n",
       "  <thead>\n",
       "    <tr style=\"text-align: right;\">\n",
       "      <th></th>\n",
       "      <th>PatientsID</th>\n",
       "      <th>Prediction</th>\n",
       "      <th>Survival</th>\n",
       "      <th>Event</th>\n",
       "    </tr>\n",
       "  </thead>\n",
       "  <tbody>\n",
       "    <tr>\n",
       "      <th>0</th>\n",
       "      <td>CRV_001</td>\n",
       "      <td>675.570706</td>\n",
       "      <td>1750</td>\n",
       "      <td>0</td>\n",
       "    </tr>\n",
       "    <tr>\n",
       "      <th>1</th>\n",
       "      <td>CRV_002</td>\n",
       "      <td>1408.239702</td>\n",
       "      <td>1473</td>\n",
       "      <td>0</td>\n",
       "    </tr>\n",
       "    <tr>\n",
       "      <th>2</th>\n",
       "      <td>CRV_003</td>\n",
       "      <td>1309.651523</td>\n",
       "      <td>574</td>\n",
       "      <td>0</td>\n",
       "    </tr>\n",
       "    <tr>\n",
       "      <th>3</th>\n",
       "      <td>CRV_004</td>\n",
       "      <td>1322.941857</td>\n",
       "      <td>1447</td>\n",
       "      <td>0</td>\n",
       "    </tr>\n",
       "    <tr>\n",
       "      <th>4</th>\n",
       "      <td>CRV_005</td>\n",
       "      <td>1242.874467</td>\n",
       "      <td>1092</td>\n",
       "      <td>0</td>\n",
       "    </tr>\n",
       "    <tr>\n",
       "      <th>...</th>\n",
       "      <td>...</td>\n",
       "      <td>...</td>\n",
       "      <td>...</td>\n",
       "      <td>...</td>\n",
       "    </tr>\n",
       "    <tr>\n",
       "      <th>96</th>\n",
       "      <td>CRV_104</td>\n",
       "      <td>980.552810</td>\n",
       "      <td>1750</td>\n",
       "      <td>0</td>\n",
       "    </tr>\n",
       "    <tr>\n",
       "      <th>97</th>\n",
       "      <td>CRV_105</td>\n",
       "      <td>1395.252198</td>\n",
       "      <td>929</td>\n",
       "      <td>0</td>\n",
       "    </tr>\n",
       "    <tr>\n",
       "      <th>98</th>\n",
       "      <td>CRV_106</td>\n",
       "      <td>1476.839492</td>\n",
       "      <td>1015</td>\n",
       "      <td>0</td>\n",
       "    </tr>\n",
       "    <tr>\n",
       "      <th>99</th>\n",
       "      <td>CRV_107</td>\n",
       "      <td>1092.629574</td>\n",
       "      <td>150</td>\n",
       "      <td>1</td>\n",
       "    </tr>\n",
       "    <tr>\n",
       "      <th>100</th>\n",
       "      <td>CRV_108</td>\n",
       "      <td>1258.273822</td>\n",
       "      <td>1750</td>\n",
       "      <td>0</td>\n",
       "    </tr>\n",
       "  </tbody>\n",
       "</table>\n",
       "<p>101 rows × 4 columns</p>\n",
       "</div>"
      ],
      "text/plain": [
       "    PatientsID   Prediction  Survival  Event\n",
       "0      CRV_001   675.570706      1750      0\n",
       "1      CRV_002  1408.239702      1473      0\n",
       "2      CRV_003  1309.651523       574      0\n",
       "3      CRV_004  1322.941857      1447      0\n",
       "4      CRV_005  1242.874467      1092      0\n",
       "..         ...          ...       ...    ...\n",
       "96     CRV_104   980.552810      1750      0\n",
       "97     CRV_105  1395.252198       929      0\n",
       "98     CRV_106  1476.839492      1015      0\n",
       "99     CRV_107  1092.629574       150      1\n",
       "100    CRV_108  1258.273822      1750      0\n",
       "\n",
       "[101 rows x 4 columns]"
      ]
     },
     "execution_count": 13,
     "metadata": {},
     "output_type": "execute_result"
    }
   ],
   "source": [
    "data12"
   ]
  },
  {
   "cell_type": "code",
   "execution_count": 14,
   "id": "da5ed4b0",
   "metadata": {},
   "outputs": [
    {
     "data": {
      "text/plain": [
       "0.6944359987838249"
      ]
     },
     "execution_count": 14,
     "metadata": {},
     "output_type": "execute_result"
    }
   ],
   "source": [
    "Cindex_val = concordance_index(\n",
    "    event_times=data['Survival'], \n",
    "    predicted_scores = data['Prediction'], \n",
    "    event_observed= data['Event'],\n",
    ")\n",
    "Cindex_val"
   ]
  },
  {
   "cell_type": "code",
   "execution_count": 15,
   "id": "1c3b2b06",
   "metadata": {},
   "outputs": [],
   "source": [
    "from sklearn.utils import resample\n",
    "\n",
    "n_bootstraps = 10000\n",
    "confidence_level = 0.95\n",
    "\n",
    "CIs = []\n",
    "for i in range(n_bootstraps):\n",
    "    datastrap = resample(data,n_samples = 61)\n",
    "    Cindex_val = concordance_index(\n",
    "        event_times=datastrap['Survival'], \n",
    "        predicted_scores = datastrap['Prediction'], \n",
    "        event_observed= datastrap['Event'],\n",
    "    )\n",
    "    CIs.append(Cindex_val)\n",
    "    \n",
    "np.mean(CIs, axis=0)\n",
    "\n",
    "lower_bound = np.percentile(CIs, (1 - confidence_level) / 2 * 100)\n",
    "upper_bound = np.percentile(CIs, (1 + confidence_level) / 2 * 100)"
   ]
  },
  {
   "cell_type": "code",
   "execution_count": 16,
   "id": "a0af9004",
   "metadata": {},
   "outputs": [
    {
     "data": {
      "text/plain": [
       "(0.5767097449251003, 0.8056139020097791)"
      ]
     },
     "execution_count": 16,
     "metadata": {},
     "output_type": "execute_result"
    }
   ],
   "source": [
    "lower_bound, upper_bound"
   ]
  },
  {
   "cell_type": "code",
   "execution_count": 17,
   "id": "a9d864e8",
   "metadata": {
    "scrolled": true
   },
   "outputs": [
    {
     "data": {
      "image/png": "[encoded data removed]",
      "text/plain": [
       "<Figure size 432x288 with 1 Axes>"
      ]
     },
     "metadata": {
      "needs_background": "light"
     },
     "output_type": "display_data"
    }
   ],
   "source": [
    "import matplotlib.pyplot as plt\n",
    "plt.hist(CIs, bins=50)\n",
    "plt.title('Histogram of the bootstrapped C-index scores - Rad only')\n",
    "plt.xlim([0.4, 1])\n",
    "plt.show()"
   ]
  },
  {
   "cell_type": "code",
   "execution_count": 18,
   "id": "cdca9b0f",
   "metadata": {},
   "outputs": [],
   "source": [
    "fpr12, tpr12, thr12 = metrics.roc_curve(data12['Event'], -data12['Prediction'])\n",
    "auc12 = metrics.roc_auc_score(data12['Event'].values,-data12['Prediction'].values)\n",
    "\n",
    "fpr24, tpr24, thr24 = metrics.roc_curve(data24['Event'], -data24['Prediction'])\n",
    "auc24 = metrics.roc_auc_score(data24['Event'].values,-data24['Prediction'].values)\n",
    "\n",
    "fpr36, tpr36, thr36 = metrics.roc_curve(data36['Event'], -data36['Prediction'])\n",
    "auc36 = metrics.roc_auc_score(data36['Event'].values,-data36['Prediction'].values)"
   ]
  },
  {
   "cell_type": "code",
   "execution_count": 19,
   "id": "7238899c",
   "metadata": {},
   "outputs": [],
   "source": [
    "# # sensitivity specificity\n",
    "# from sklearn.metrics import confusion_matrix\n",
    "# gmean12 = np.sqrt(tpr12 * (1 - fpr12))\n",
    "# index12 = np.argmax(gmean12)\n",
    "# threshold12 = -round(thr12[index12], ndigits = 4)\n",
    "\n",
    "# gmean24 = np.sqrt(tpr24 * (1 - fpr24))\n",
    "# index24 = np.argmax(gmean24)\n",
    "# threshold24 = -round(thr24[index24], ndigits = 4)\n",
    "\n",
    "# gmean36 = np.sqrt(tpr36 * (1 - fpr36))\n",
    "# index36 = np.argmax(gmean36)\n",
    "# threshold36 = -round(thr36[index36], ndigits = 4)\n",
    "\n",
    "# predicted_class12 = np.zeros(data12['Prediction'].shape)\n",
    "# predicted_class12[data12['Prediction'].values<=threshold12]=1\n",
    "# cm12 = confusion_matrix(data12['Recurrence'].values,predicted_class12)\n",
    "# print('Confusion Matrix 12mon RFS: \\n', cm12)\n",
    "# predicted_class24 = np.zeros(data24['Prediction'].shape)\n",
    "# predicted_class24[data24['Prediction'].values<=threshold24]=1\n",
    "# cm24 = confusion_matrix(data24['Recurrence'].values,predicted_class24)\n",
    "# print('Confusion Matrix 24mon RFS: \\n', cm24)\n",
    "# predicted_class36 = np.zeros(data36['Prediction'].shape)\n",
    "# predicted_class36[data36['Prediction'].values<=threshold36]=1\n",
    "# cm36 = confusion_matrix(data36['Recurrence'].values,predicted_class36)\n",
    "# print('Confusion Matrix 36mon RFS: \\n', cm36)"
   ]
  },
  {
   "cell_type": "code",
   "execution_count": 20,
   "id": "239af8a4",
   "metadata": {},
   "outputs": [
    {
     "name": "stdout",
     "output_type": "stream",
     "text": [
      "Confusion Matrix 12mon RFS: \n",
      " [[43 28]\n",
      " [ 7 23]]\n",
      "Confusion Matrix 24mon RFS: \n",
      " [[36 17]\n",
      " [ 9 28]]\n",
      "Confusion Matrix 36mon RFS: \n",
      " [[27 12]\n",
      " [13 28]]\n"
     ]
    }
   ],
   "source": [
    "# sensitivity specificity\n",
    "from sklearn.metrics import confusion_matrix\n",
    "\n",
    "predicMed12 = median(data12['Prediction'].values)\n",
    "threshold12 = predicMed12\n",
    "predicted_class12 = np.zeros(data12['Prediction'].shape)\n",
    "predicted_class12[data12['Prediction'].values<=threshold12]=1\n",
    "cm12 = confusion_matrix(data12['Event'].values,predicted_class12)\n",
    "print('Confusion Matrix 12mon RFS: \\n', cm12)\n",
    "\n",
    "predicMed24 = median(data24['Prediction'].values)\n",
    "threshold24 = predicMed24\n",
    "predicted_class24 = np.zeros(data24['Prediction'].shape)\n",
    "predicted_class24[data24['Prediction'].values<=threshold24]=1\n",
    "cm24 = confusion_matrix(data24['Event'].values,predicted_class24)\n",
    "print('Confusion Matrix 24mon RFS: \\n', cm24)\n",
    "\n",
    "predicMed36 = median(data36['Prediction'].values)\n",
    "threshold36 = predicMed36\n",
    "predicted_class36 = np.zeros(data36['Prediction'].shape)\n",
    "predicted_class36[data36['Prediction'].values<=threshold36]=1\n",
    "cm36 = confusion_matrix(data36['Event'].values,predicted_class36)\n",
    "print('Confusion Matrix 36mon RFS: \\n', cm36)"
   ]
  },
  {
   "cell_type": "code",
   "execution_count": 21,
   "id": "891c848b",
   "metadata": {},
   "outputs": [
    {
     "data": {
      "text/plain": [
       "1225.725720415744"
      ]
     },
     "execution_count": 21,
     "metadata": {},
     "output_type": "execute_result"
    }
   ],
   "source": [
    "threshold12"
   ]
  },
  {
   "cell_type": "code",
   "execution_count": 22,
   "id": "1f384f51",
   "metadata": {},
   "outputs": [
    {
     "name": "stdout",
     "output_type": "stream",
     "text": [
      "Sensitivity 12mon:  0.7666666666666667\n",
      "Specificity 12mon:  0.6056338028169014\n",
      "Accuracy 12mon:  0.6534653465346535\n"
     ]
    }
   ],
   "source": [
    "total=sum(sum(cm12))\n",
    "sensitivity12 = cm12[1,1]/(cm12[1,1]+cm12[1,0])\n",
    "print('Sensitivity 12mon: ', sensitivity12)\n",
    "specificity12 = cm12[0,0]/(cm12[0,0]+cm12[0,1])\n",
    "print('Specificity 12mon: ', specificity12)\n",
    "accuracy12=(cm12[0,0]+cm12[1,1])/total\n",
    "print ('Accuracy 12mon: ', accuracy12)"
   ]
  },
  {
   "cell_type": "code",
   "execution_count": 23,
   "id": "071df676",
   "metadata": {},
   "outputs": [
    {
     "name": "stdout",
     "output_type": "stream",
     "text": [
      "Sensitivity 24mon:  0.7567567567567568\n",
      "Specificity 24mon:  0.6792452830188679\n",
      "Accuracy 24mon:  0.7111111111111111\n"
     ]
    }
   ],
   "source": [
    "total=sum(sum(cm24))\n",
    "sensitivity24 = cm24[1,1]/(cm24[1,1]+cm24[1,0])\n",
    "print('Sensitivity 24mon: ', sensitivity24)\n",
    "specificity24 = cm24[0,0]/(cm24[0,0]+cm24[0,1])\n",
    "print('Specificity 24mon: ', specificity24)\n",
    "accuracy24=(cm24[0,0]+cm24[1,1])/total\n",
    "print ('Accuracy 24mon: ', accuracy24)"
   ]
  },
  {
   "cell_type": "code",
   "execution_count": 24,
   "id": "741c7799",
   "metadata": {},
   "outputs": [
    {
     "name": "stdout",
     "output_type": "stream",
     "text": [
      "Sensitivity 36mon:  0.6829268292682927\n",
      "Specificity 36mon:  0.6923076923076923\n",
      "Accuracy 36mon:  0.6875\n"
     ]
    }
   ],
   "source": [
    "total=sum(sum(cm36))\n",
    "sensitivity36 = cm36[1,1]/(cm36[1,1]+cm36[1,0])\n",
    "print('Sensitivity 36mon: ', sensitivity36)\n",
    "specificity36 = cm36[0,0]/(cm36[0,0]+cm36[0,1])\n",
    "print('Specificity 36mon: ', specificity36)\n",
    "accuracy36=(cm36[0,0]+cm36[1,1])/total\n",
    "print ('Accuracy 36mon: ', accuracy36)"
   ]
  },
  {
   "cell_type": "code",
   "execution_count": 25,
   "id": "48941eaf",
   "metadata": {},
   "outputs": [
    {
     "data": {
      "image/png": "[encoded data removed]",
      "text/plain": [
       "<Figure size 432x288 with 1 Axes>"
      ]
     },
     "metadata": {
      "needs_background": "light"
     },
     "output_type": "display_data"
    }
   ],
   "source": [
    "ax = plt.figure()\n",
    "lw = 2\n",
    "plt.plot(fpr12, tpr12, color=\"darkorange\", lw=lw, label=\"12 mon RFS(AUC = %0.4f)\" % auc12)\n",
    "plt.plot(fpr24, tpr24, color=\"brown\", lw=lw, label=\"24 mon RFS(AUC = %0.4f)\" % auc24)\n",
    "plt.plot(fpr36, tpr36, color=\"blue\", lw=lw, label=\"36 mon RFS(AUC = %0.4f)\" % auc36)\n",
    "plt.plot([0, 1], [0, 1], color=\"navy\", lw=lw, linestyle=\"--\")\n",
    "plt.xlim([0.0, 1.0])\n",
    "plt.ylim([0.0, 1.05])\n",
    "plt.xlabel(\"False Positive Rate\")\n",
    "plt.ylabel(\"True Positive Rate\")\n",
    "plt.title(figuretitle)\n",
    "plt.legend(loc=\"lower right\")\n",
    "plt.show()"
   ]
  },
  {
   "cell_type": "code",
   "execution_count": 26,
   "id": "62749d2b",
   "metadata": {},
   "outputs": [
    {
     "data": {
      "text/plain": [
       "(1225.725720415744, 1220.485104915319, 1211.982748569139)"
      ]
     },
     "execution_count": 26,
     "metadata": {},
     "output_type": "execute_result"
    }
   ],
   "source": [
    "threshold12,threshold24,threshold36"
   ]
  },
  {
   "cell_type": "code",
   "execution_count": 27,
   "id": "75861eb8",
   "metadata": {},
   "outputs": [],
   "source": [
    "# ax.savefig(figuretitle+'.tif', format='tif', dpi=1200)"
   ]
  },
  {
   "cell_type": "code",
   "execution_count": 28,
   "id": "6cd80bfc",
   "metadata": {},
   "outputs": [],
   "source": [
    "# write AUC data to file\n",
    "plots12 = np.column_stack([fpr12,tpr12])\n",
    "plots12_df = pd.DataFrame(plots12,columns=['FPR-12','TPR-12'])\n",
    "plots24 = np.column_stack([fpr24,tpr24])\n",
    "plots24_df = pd.DataFrame(plots24,columns=['FPR-24','TPR-24'])\n",
    "plots36 = np.column_stack([fpr36,tpr36])\n",
    "plots36_df = pd.DataFrame(plots36,columns=['FPR-36','TPR-36'])\n",
    "with pd.ExcelWriter(filename, engine='openpyxl', mode='a',if_sheet_exists=\"replace\",) as writer:  \n",
    "    plots12_df.to_excel(writer, sheet_name='AUCPlot12')\n",
    "with pd.ExcelWriter(filename, engine='openpyxl', mode='a',if_sheet_exists=\"replace\",) as writer:  \n",
    "    plots24_df.to_excel(writer, sheet_name='AUCPlot24')\n",
    "with pd.ExcelWriter(filename, engine='openpyxl', mode='a',if_sheet_exists=\"replace\",) as writer:  \n",
    "    plots36_df.to_excel(writer, sheet_name='AUCPlot36')\n",
    "     "
   ]
  },
  {
   "cell_type": "code",
   "execution_count": 29,
   "id": "e67e408d",
   "metadata": {},
   "outputs": [],
   "source": [
    "# write results to file\n",
    "CI = [Cindex_val,Cindex_val,Cindex_val]\n",
    "AUC = AUC = [auc12,auc24,auc36]\n",
    "Sen = [sensitivity12, sensitivity24, sensitivity36]\n",
    "Spe = [specificity12, specificity24, specificity36]\n",
    "Acu = [accuracy12, accuracy24, accuracy36]\n",
    "results = np.column_stack([CI, AUC, Sen, Spe, Acu])\n",
    "res_df = pd.DataFrame(results,columns=['C-Index','AUC','Sensitivity','Specificity','Accuracy'], \n",
    "                      index=['12mon','24mon', '36mon'])\n",
    "\n",
    "with pd.ExcelWriter(filename, engine='openpyxl', mode='a') as writer:  \n",
    "    res_df.to_excel(writer, sheet_name='ResultSummary')"
   ]
  },
  {
   "cell_type": "code",
   "execution_count": 30,
   "id": "94447d40",
   "metadata": {},
   "outputs": [
    {
     "data": {
      "image/png": "[encoded data removed]",
      "text/plain": [
       "<Figure size 432x288 with 1 Axes>"
      ]
     },
     "metadata": {
      "needs_background": "light"
     },
     "output_type": "display_data"
    }
   ],
   "source": [
    "fig = plt.figure(figsize=(6,4))\n",
    "ax = fig.add_subplot(111)\n",
    "ax.set_xlabel(\"Predicted survival [days]\")\n",
    "ax.set_ylabel(\"Survival lifetime [days]\")\n",
    "plt.scatter(data['Prediction'].values,data['Survival'].values, alpha=0.5)\n",
    "plt.xlim([0, 1200])\n",
    "plt.show()"
   ]
  },
  {
   "cell_type": "code",
   "execution_count": null,
   "id": "aa3ed3d6",
   "metadata": {},
   "outputs": [],
   "source": []
  }
 ],
 "metadata": {
  "kernelspec": {
   "display_name": "Python 3",
   "language": "python",
   "name": "python3"
  },
  "language_info": {
   "codemirror_mode": {
    "name": "ipython",
    "version": 3
   },
   "file_extension": ".py",
   "mimetype": "text/x-python",
   "name": "python",
   "nbconvert_exporter": "python",
   "pygments_lexer": "ipython3",
   "version": "3.8.8"
  }
 },
 "nbformat": 4,
 "nbformat_minor": 5
}
